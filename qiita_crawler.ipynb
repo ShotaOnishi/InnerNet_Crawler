{
 "cells": [
  {
   "cell_type": "code",
   "execution_count": 1,
   "metadata": {
    "collapsed": true
   },
   "outputs": [],
   "source": [
    "# libraryのimport\n",
    "# site:qiita.com\n",
    "import sys\n",
    "from selenium import webdriver\n",
    "import time\n",
    "import os.path\n",
    "import uuid"
   ]
  },
  {
   "cell_type": "code",
   "execution_count": 2,
   "metadata": {
    "collapsed": true
   },
   "outputs": [],
   "source": [
    "# 来訪すべきURLのリスト取得\n",
    "\n",
    "GOOGLE_URL = 'http://www.google.com'\n",
    "query = \"MithrilJS\"\n",
    "query = query + \" site:qiita.com\"\n",
    "url_links = []\n",
    "browser = webdriver.Firefox()\n",
    "browser.get(GOOGLE_URL)\n",
    "search_input = browser.find_element_by_name('q') #inputフォームを見つける\n",
    "search_input.send_keys(query) # そのフォームにqueryメッセージをぶち込む\n",
    "search_input.submit() # そのqueryを送る\n",
    "time.sleep(1) # 1秒待つ (待たないと, 結果が全部表示される前に次のページに移るため. )\n",
    "titles = browser.find_elements_by_css_selector('h3.r') # 検索結果のタイトルを取得する. (webelementのリストで帰ってくる. )"
   ]
  },
  {
   "cell_type": "code",
   "execution_count": 4,
   "metadata": {
    "collapsed": true
   },
   "outputs": [],
   "source": [
    "# 来訪すべきURLのリストを一つ一つ訪れる\n",
    "\n",
    "for i in titles:\n",
    "    i = i.find_elements_by_css_selector('a') #webelementからアンカータグのwebelementを取り出す. (リスト形式で返ってくる)\n",
    "    url_link = i[0].get_attribute('href') # アンカータグのwebelementに含まれているhrefのリンク先を取得\n",
    "    url_links.append(url_link) # url_linksにurl_linkを追加していく\n",
    "for i in url_links:\n",
    "    browser.get(i)\n",
    "    file_name = os.path.join(os.path.dirname(os.path.abspath(\"__file__\")), 'saved_images', str(uuid.uuid4())+'page.png')\n",
    "    browser.save_screenshot(file_name)\n",
    "    time.sleep(1)"
   ]
  },
  {
   "cell_type": "code",
   "execution_count": null,
   "metadata": {
    "collapsed": true
   },
   "outputs": [],
   "source": []
  }
 ],
 "metadata": {
  "kernelspec": {
   "display_name": "Python 3",
   "language": "python",
   "name": "python3"
  },
  "language_info": {
   "codemirror_mode": {
    "name": "ipython",
    "version": 3
   },
   "file_extension": ".py",
   "mimetype": "text/x-python",
   "name": "python",
   "nbconvert_exporter": "python",
   "pygments_lexer": "ipython3",
   "version": "3.5.1"
  }
 },
 "nbformat": 4,
 "nbformat_minor": 1
}
