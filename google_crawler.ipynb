{
 "cells": [
  {
   "cell_type": "markdown",
   "metadata": {},
   "source": [
    "# GoogleからCrwalingするためのクローラー\n",
    "検索 → 検索結果表示 → リンク先のurl取得 → ページング → リンク先のurl取得 → リンク先リストから1つずつ辿り, スクショして保存\n",
    "\n",
    "保存の際は, uuidなどで一意の名前を付ける. "
   ]
  },
  {
   "cell_type": "code",
   "execution_count": 1,
   "metadata": {
    "collapsed": true
   },
   "outputs": [],
   "source": [
    "# libraryのimport\n",
    "\n",
    "import sys\n",
    "from selenium import webdriver\n",
    "import time\n",
    "import os.path"
   ]
  },
  {
   "cell_type": "code",
   "execution_count": 4,
   "metadata": {
    "collapsed": false
   },
   "outputs": [],
   "source": [
    "# 来訪すべきURLのリスト取得\n",
    "GOOGLE_URL = 'http://www.google.com'\n",
    "query = \"MithrilJS\"\n",
    "url_links = []\n",
    "browser = webdriver.Firefox()\n",
    "browser.get(GOOGLE_URL)\n",
    "search_input = browser.find_element_by_name('q')\n",
    "search_input.send_keys(query)\n",
    "search_input.submit()\n",
    "time.sleep(1)\n",
    "titles = browser.find_elements_by_css_selector('h3.r')"
   ]
  },
  {
   "cell_type": "code",
   "execution_count": 6,
   "metadata": {
    "collapsed": false
   },
   "outputs": [
    {
     "data": {
      "text/plain": [
       "[<selenium.webdriver.remote.webelement.WebElement (session=\"df8eb516-4dd1-224b-8762-04ca5fe547cf\", element=\"{f77a7815-3dc7-8e45-804e-e2346fca14f6}\")>,\n",
       " <selenium.webdriver.remote.webelement.WebElement (session=\"df8eb516-4dd1-224b-8762-04ca5fe547cf\", element=\"{ae4ce964-e978-1043-9607-64fc7db1dd01}\")>,\n",
       " <selenium.webdriver.remote.webelement.WebElement (session=\"df8eb516-4dd1-224b-8762-04ca5fe547cf\", element=\"{6c965af8-8d33-6f4b-bee7-b579ea68df32}\")>,\n",
       " <selenium.webdriver.remote.webelement.WebElement (session=\"df8eb516-4dd1-224b-8762-04ca5fe547cf\", element=\"{b8231a03-eb53-a341-af3f-6d1f55015816}\")>,\n",
       " <selenium.webdriver.remote.webelement.WebElement (session=\"df8eb516-4dd1-224b-8762-04ca5fe547cf\", element=\"{c31af823-357c-2e4d-a21a-211d563f3049}\")>,\n",
       " <selenium.webdriver.remote.webelement.WebElement (session=\"df8eb516-4dd1-224b-8762-04ca5fe547cf\", element=\"{7ac8a281-9426-af40-86b3-1694d8dbb670}\")>,\n",
       " <selenium.webdriver.remote.webelement.WebElement (session=\"df8eb516-4dd1-224b-8762-04ca5fe547cf\", element=\"{3d58d7c3-4a53-9f40-aa9e-aac57537300b}\")>,\n",
       " <selenium.webdriver.remote.webelement.WebElement (session=\"df8eb516-4dd1-224b-8762-04ca5fe547cf\", element=\"{d883950c-7065-1646-ba78-982896fc4056}\")>,\n",
       " <selenium.webdriver.remote.webelement.WebElement (session=\"df8eb516-4dd1-224b-8762-04ca5fe547cf\", element=\"{fd370262-662e-534a-8fec-99478eb19873}\")>,\n",
       " <selenium.webdriver.remote.webelement.WebElement (session=\"df8eb516-4dd1-224b-8762-04ca5fe547cf\", element=\"{b8eab7cd-ea6c-7944-b190-d9c1418ee728}\")>]"
      ]
     },
     "execution_count": 6,
     "metadata": {},
     "output_type": "execute_result"
    }
   ],
   "source": [
    "titles"
   ]
  }
 ],
 "metadata": {
  "kernelspec": {
   "display_name": "Python 3",
   "language": "python",
   "name": "python3"
  },
  "language_info": {
   "codemirror_mode": {
    "name": "ipython",
    "version": 3
   },
   "file_extension": ".py",
   "mimetype": "text/x-python",
   "name": "python",
   "nbconvert_exporter": "python",
   "pygments_lexer": "ipython3",
   "version": "3.5.1"
  }
 },
 "nbformat": 4,
 "nbformat_minor": 1
}
