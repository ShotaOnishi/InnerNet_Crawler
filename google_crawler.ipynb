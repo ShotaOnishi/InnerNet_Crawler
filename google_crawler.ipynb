{
 "cells": [
  {
   "cell_type": "code",
   "execution_count": null,
   "metadata": {
    "collapsed": true
   },
   "outputs": [],
   "source": [
    "# GoogleからCrwalingするためのクローラー\n",
    "検索 → 検索結果表示 → リンク先のurl取得 → ページング → リンク先のurl取得 → リンク先リストから1つずつ辿り, スクショして保存\n",
    "\n",
    "保存の際は, uuidなどで一意の名前を付ける. "
   ]
  }
 ],
 "metadata": {
  "kernelspec": {
   "display_name": "Python 3",
   "language": "python",
   "name": "python3"
  },
  "language_info": {
   "codemirror_mode": {
    "name": "ipython",
    "version": 3
   },
   "file_extension": ".py",
   "mimetype": "text/x-python",
   "name": "python",
   "nbconvert_exporter": "python",
   "pygments_lexer": "ipython3",
   "version": "3.5.1"
  }
 },
 "nbformat": 4,
 "nbformat_minor": 1
}
