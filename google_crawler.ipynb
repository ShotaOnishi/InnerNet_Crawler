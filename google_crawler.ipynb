{
 "cells": [
  {
   "cell_type": "markdown",
   "metadata": {},
   "source": [
    "# GoogleからCrwalingするためのクローラー\n",
    "検索 → 検索結果表示 → リンク先のurl取得 → ページング → リンク先のurl取得 → リンク先リストから1つずつ辿り, スクショして保存\n",
    "\n",
    "保存の際は, uuidなどで一意の名前を付ける. "
   ]
  },
  {
   "cell_type": "code",
   "execution_count": 1,
   "metadata": {
    "collapsed": true
   },
   "outputs": [],
   "source": [
    "# libraryのimport\n",
    "\n",
    "import sys\n",
    "from selenium import webdriver\n",
    "import time\n",
    "import os.path"
   ]
  },
  {
   "cell_type": "code",
   "execution_count": 4,
   "metadata": {
    "collapsed": false
   },
   "outputs": [],
   "source": [
    "# 来訪すべきURLのリスト取得\n",
    "\n",
    "GOOGLE_URL = 'http://www.google.com'\n",
    "query = \"MithrilJS\"\n",
    "url_links = []\n",
    "browser = webdriver.Firefox()\n",
    "browser.get(GOOGLE_URL)\n",
    "search_input = browser.find_element_by_name('q') #inputフォームを見つける\n",
    "search_input.send_keys(query) # そのフォームにqueryメッセージをぶち込む\n",
    "search_input.submit() # そのqueryを送る\n",
    "time.sleep(1) # 1秒待つ (待たないと, 結果が全部表示される前に次のページに移るため. )\n",
    "titles = browser.find_elements_by_css_selector('h3.r') # 検索結果のタイトルを取得する. (webelementのリストで帰ってくる. )"
   ]
  },
  {
   "cell_type": "code",
   "execution_count": 7,
   "metadata": {
    "collapsed": false
   },
   "outputs": [
    {
     "name": "stdout",
     "output_type": "stream",
     "text": [
      "[<selenium.webdriver.remote.webelement.WebElement (session=\"df8eb516-4dd1-224b-8762-04ca5fe547cf\", element=\"{3d7a686c-ad71-e84b-abf4-070f05fb4182}\")>]\n",
      "[<selenium.webdriver.remote.webelement.WebElement (session=\"df8eb516-4dd1-224b-8762-04ca5fe547cf\", element=\"{cd0d237b-ade9-ae41-ac14-d2797a83cfb3}\")>]\n",
      "[<selenium.webdriver.remote.webelement.WebElement (session=\"df8eb516-4dd1-224b-8762-04ca5fe547cf\", element=\"{7f7e6556-6b56-fa44-a563-76e2ae4a75db}\")>]\n",
      "[<selenium.webdriver.remote.webelement.WebElement (session=\"df8eb516-4dd1-224b-8762-04ca5fe547cf\", element=\"{c5507859-f875-2747-84c1-50edf28937ec}\")>]\n",
      "[<selenium.webdriver.remote.webelement.WebElement (session=\"df8eb516-4dd1-224b-8762-04ca5fe547cf\", element=\"{8176ee09-99d0-d14c-a312-356b2a4392bd}\")>]\n",
      "[<selenium.webdriver.remote.webelement.WebElement (session=\"df8eb516-4dd1-224b-8762-04ca5fe547cf\", element=\"{6b93d4bc-4666-b942-8d93-9c085951f5bf}\")>]\n",
      "[<selenium.webdriver.remote.webelement.WebElement (session=\"df8eb516-4dd1-224b-8762-04ca5fe547cf\", element=\"{de232397-2a3c-d047-ab73-83906934fd00}\")>]\n",
      "[<selenium.webdriver.remote.webelement.WebElement (session=\"df8eb516-4dd1-224b-8762-04ca5fe547cf\", element=\"{6f55c94c-4b0c-0642-a2d2-bb9e9a9dd3ff}\")>]\n",
      "[<selenium.webdriver.remote.webelement.WebElement (session=\"df8eb516-4dd1-224b-8762-04ca5fe547cf\", element=\"{96928913-bdd0-2a4a-965c-0f357b5bb896}\")>]\n",
      "[<selenium.webdriver.remote.webelement.WebElement (session=\"df8eb516-4dd1-224b-8762-04ca5fe547cf\", element=\"{06323d09-3912-694a-945c-1e0e732ba848}\")>]\n"
     ]
    }
   ],
   "source": [
    "# 来訪すべきURLのリストを一つ一つ訪れる\n",
    "\n",
    "for i in titles:\n",
    "    i = i.find_elements_by_css_selector('a') #webelementからアンカータグのwebelementを取り出す. (リスト形式で返ってくる)\n",
    "    url_link = i[0].get_attribute('href') # アンカータグのwebelementに含まれているhrefのリンク先を取得\n",
    "    url_links.append(url_link) # url_linksにurl_linkを追加していく"
   ]
  },
  {
   "cell_type": "code",
   "execution_count": 13,
   "metadata": {
    "collapsed": false
   },
   "outputs": [
    {
     "data": {
      "text/plain": [
       "'https://www.reddit.com/r/javascript/comments/31mbi5/anyone_using_mithriljs_in_a_production_app_care/'"
      ]
     },
     "execution_count": 13,
     "metadata": {},
     "output_type": "execute_result"
    }
   ],
   "source": [
    "i[0].get_attribute('href')"
   ]
  },
  {
   "cell_type": "code",
   "execution_count": null,
   "metadata": {
    "collapsed": true
   },
   "outputs": [],
   "source": []
  }
 ],
 "metadata": {
  "kernelspec": {
   "display_name": "Python 3",
   "language": "python",
   "name": "python3"
  },
  "language_info": {
   "codemirror_mode": {
    "name": "ipython",
    "version": 3
   },
   "file_extension": ".py",
   "mimetype": "text/x-python",
   "name": "python",
   "nbconvert_exporter": "python",
   "pygments_lexer": "ipython3",
   "version": "3.5.1"
  }
 },
 "nbformat": 4,
 "nbformat_minor": 1
}
