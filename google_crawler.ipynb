{
 "cells": [
  {
   "cell_type": "markdown",
   "metadata": {},
   "source": [
    "# GoogleからCrwalingするためのクローラー\n",
    "検索 → 検索結果表示 → リンク先のurl取得 → ページング → リンク先のurl取得 → リンク先リストから1つずつ辿り, スクショして保存\n",
    "\n",
    "保存の際は, uuidなどで一意の名前を付ける. "
   ]
  },
  {
   "cell_type": "code",
   "execution_count": 2,
   "metadata": {
    "collapsed": true
   },
   "outputs": [],
   "source": [
    "# libraryのimport\n",
    "\n",
    "import sys\n",
    "from selenium import webdriver\n",
    "import time\n",
    "import os.path\n",
    "import uuid"
   ]
  },
  {
   "cell_type": "code",
   "execution_count": 3,
   "metadata": {
    "collapsed": false
   },
   "outputs": [],
   "source": [
    "# 来訪すべきURLのリスト取得\n",
    "\n",
    "GOOGLE_URL = 'http://www.google.com'\n",
    "query = \"MithrilJS\"\n",
    "url_links = []\n",
    "browser = webdriver.PhantomJS()\n",
    "browser.get(GOOGLE_URL)\n",
    "search_input = browser.find_element_by_name('q') #inputフォームを見つける\n",
    "search_input.send_keys(query) # そのフォームにqueryメッセージをぶち込む\n",
    "search_input.submit() # そのqueryを送る\n",
    "time.sleep(1) # 1秒待つ (待たないと, 結果が全部表示される前に次のページに移るため. )\n",
    "titles = browser.find_elements_by_css_selector('h3.r') # 検索結果のタイトルを取得する. (webelementのリストで帰ってくる. )"
   ]
  },
  {
   "cell_type": "code",
   "execution_count": 4,
   "metadata": {
    "collapsed": false,
    "scrolled": true
   },
   "outputs": [],
   "source": [
    "# 来訪すべきURLのリストを一つ一つ訪れる\n",
    "\n",
    "for i in titles:\n",
    "    i = i.find_elements_by_css_selector('a') #webelementからアンカータグのwebelementを取り出す. (リスト形式で返ってくる)\n",
    "    url_link = i[0].get_attribute('href') # アンカータグのwebelementに含まれているhrefのリンク先を取得\n",
    "    url_links.append(url_link) # url_linksにurl_linkを追加していく"
   ]
  },
  {
   "cell_type": "code",
   "execution_count": 5,
   "metadata": {
    "collapsed": false
   },
   "outputs": [],
   "source": [
    "for i in url_links:\n",
    "    browser.get(i)\n",
    "    file_name = os.path.join(os.path.dirname(os.path.abspath(\"__file__\")), 'saved_images', str(uuid.uuid4())+'page.png')\n",
    "    browser.save_screenshot(file_name)\n",
    "    time.sleep(1)"
   ]
  },
  {
   "cell_type": "code",
   "execution_count": 10,
   "metadata": {
    "collapsed": false
   },
   "outputs": [
    {
     "data": {
      "text/plain": [
       "['ActionChains',\n",
       " 'Android',\n",
       " 'BlackBerry',\n",
       " 'Chrome',\n",
       " 'ChromeOptions',\n",
       " 'DesiredCapabilities',\n",
       " 'Edge',\n",
       " 'Firefox',\n",
       " 'FirefoxProfile',\n",
       " 'Ie',\n",
       " 'Opera',\n",
       " 'PhantomJS',\n",
       " 'Proxy',\n",
       " 'Remote',\n",
       " 'Safari',\n",
       " 'TouchActions',\n",
       " '__builtins__',\n",
       " '__cached__',\n",
       " '__doc__',\n",
       " '__file__',\n",
       " '__loader__',\n",
       " '__name__',\n",
       " '__package__',\n",
       " '__path__',\n",
       " '__spec__',\n",
       " '__version__',\n",
       " 'android',\n",
       " 'blackberry',\n",
       " 'chrome',\n",
       " 'common',\n",
       " 'edge',\n",
       " 'firefox',\n",
       " 'ie',\n",
       " 'opera',\n",
       " 'phantomjs',\n",
       " 'remote',\n",
       " 'safari',\n",
       " 'support']"
      ]
     },
     "execution_count": 10,
     "metadata": {},
     "output_type": "execute_result"
    }
   ],
   "source": [
    "dir(webdriver)"
   ]
  },
  {
   "cell_type": "code",
   "execution_count": 7,
   "metadata": {
    "collapsed": false
   },
   "outputs": [
    {
     "ename": "TypeError",
     "evalue": "'list' object is not callable",
     "output_type": "error",
     "traceback": [
      "\u001b[0;31m---------------------------------------------------------------------------\u001b[0m",
      "\u001b[0;31mTypeError\u001b[0m                                 Traceback (most recent call last)",
      "\u001b[0;32m<ipython-input-7-cd2c906cb2c7>\u001b[0m in \u001b[0;36m<module>\u001b[0;34m()\u001b[0m\n\u001b[0;32m----> 1\u001b[0;31m \u001b[0mbrowser\u001b[0m\u001b[0;34m.\u001b[0m\u001b[0mwindow_handles\u001b[0m\u001b[0;34m(\u001b[0m\u001b[0;34m)\u001b[0m\u001b[0;34m\u001b[0m\u001b[0m\n\u001b[0m",
      "\u001b[0;31mTypeError\u001b[0m: 'list' object is not callable"
     ]
    }
   ],
   "source": [
    "browser.window_handles()"
   ]
  }
 ],
 "metadata": {
  "kernelspec": {
   "display_name": "Python 3",
   "language": "python",
   "name": "python3"
  },
  "language_info": {
   "codemirror_mode": {
    "name": "ipython",
    "version": 3
   },
   "file_extension": ".py",
   "mimetype": "text/x-python",
   "name": "python",
   "nbconvert_exporter": "python",
   "pygments_lexer": "ipython3",
   "version": "3.5.1"
  }
 },
 "nbformat": 4,
 "nbformat_minor": 1
}
